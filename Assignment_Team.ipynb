{
  "nbformat": 4,
  "nbformat_minor": 0,
  "metadata": {
    "colab": {
      "provenance": [],
      "include_colab_link": true
    },
    "kernelspec": {
      "name": "python3",
      "display_name": "Python 3"
    },
    "language_info": {
      "name": "python"
    }
  },
  "cells": [
    {
      "cell_type": "markdown",
      "metadata": {
        "id": "view-in-github",
        "colab_type": "text"
      },
      "source": [
        "<a href=\"https://colab.research.google.com/github/faris-alsherif/ITI-Team-1-project/blob/main/Assignment_Team.ipynb\" target=\"_parent\"><img src=\"https://colab.research.google.com/assets/colab-badge.svg\" alt=\"Open In Colab\"/></a>"
      ]
    },
    {
      "cell_type": "code",
      "execution_count": null,
      "metadata": {
        "id": "vgSmrcUp2co6",
        "outputId": "416d0151-eaf1-46b8-c55c-94bb093ade16",
        "colab": {
          "base_uri": "https://localhost:8080/"
        }
      },
      "outputs": [
        {
          "output_type": "stream",
          "name": "stdout",
          "text": [
            "hello world from faris\n"
          ]
        }
      ],
      "source": [
        "print('hello world from faris')"
      ]
    },
    {
      "cell_type": "code",
      "source": [
        "print('helllooooo')"
      ],
      "metadata": {
        "id": "YluzxR2T_i-m",
        "outputId": "827e51c1-8de2-4355-baf1-3e41535139c4",
        "colab": {
          "base_uri": "https://localhost:8080/"
        }
      },
      "execution_count": null,
      "outputs": [
        {
          "output_type": "stream",
          "name": "stdout",
          "text": [
            "helllooooo\n"
          ]
        }
      ]
    },
    {
      "cell_type": "code",
      "source": [
        "print(\"Hello World from Shahd Elsayed\")"
      ],
      "metadata": {
        "id": "DlCQU8pzCBoN",
        "outputId": "fda7a39b-aab8-4fee-90fe-46e462ae6671",
        "colab": {
          "base_uri": "https://localhost:8080/"
        }
      },
      "execution_count": null,
      "outputs": [
        {
          "output_type": "stream",
          "name": "stdout",
          "text": [
            "Hello World from Shahd Elsayed\n"
          ]
        }
      ]
    },
    {
      "cell_type": "code",
      "source": [
        "print(\"Hello World from MAHMOUD WAHEED\")"
      ],
      "metadata": {
        "id": "xzxZsCs_Ddcv",
        "outputId": "65e42274-dec6-490f-dea2-da6c9a30eff5",
        "colab": {
          "base_uri": "https://localhost:8080/"
        }
      },
      "execution_count": 7,
      "outputs": [
        {
          "output_type": "stream",
          "name": "stdout",
          "text": [
            "Hello World from MAHMOUD WAHEED\n"
          ]
        }
      ]
    }
  ]
}