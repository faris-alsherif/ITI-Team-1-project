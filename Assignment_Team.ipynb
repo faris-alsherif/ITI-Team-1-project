{
  "nbformat": 4,
  "nbformat_minor": 0,
  "metadata": {
    "colab": {
      "provenance": [],
      "include_colab_link": true
    },
    "kernelspec": {
      "name": "python3",
      "display_name": "Python 3"
    },
    "language_info": {
      "name": "python"
    }
  },
  "cells": [
    {
      "cell_type": "markdown",
      "metadata": {
        "id": "view-in-github",
        "colab_type": "text"
      },
      "source": [
        "<a href=\"https://colab.research.google.com/github/faris-alsherif/ITI-Team-1-project/blob/main/Assignment_Team.ipynb\" target=\"_parent\"><img src=\"https://colab.research.google.com/assets/colab-badge.svg\" alt=\"Open In Colab\"/></a>"
      ]
    },
    {
      "cell_type": "code",
      "execution_count": 1,
      "metadata": {
        "id": "vgSmrcUp2co6",
        "outputId": "4b3910e2-1516-4ebe-c73a-0f748f124681",
        "colab": {
          "base_uri": "https://localhost:8080/"
        }
      },
      "outputs": [
        {
          "output_type": "stream",
          "name": "stdout",
          "text": [
            "hello world from faris\n"
          ]
        }
      ],
      "source": [
        "print('hello world from faris')"
      ]
    },
    {
      "cell_type": "code",
      "source": [
        "print(\"Hello World from Shahd Elsayed\")"
      ],
      "metadata": {
        "id": "DlCQU8pzCBoN",
        "outputId": "b47358e4-2d0f-4cce-d84c-fd8e702110e4",
        "colab": {
          "base_uri": "https://localhost:8080/"
        }
      },
      "execution_count": 2,
      "outputs": [
        {
          "output_type": "stream",
          "name": "stdout",
          "text": [
            "Hello World from Shahd Elsayed\n"
          ]
        }
      ]
    },
    {
      "cell_type": "code",
      "source": [
        "print(\"Hello World from MAHMOUD WAHEED\")"
      ],
      "metadata": {
        "id": "xzxZsCs_Ddcv",
        "outputId": "2fd12c17-2909-4eca-f8d0-842d151bd60e",
        "colab": {
          "base_uri": "https://localhost:8080/"
        }
      },
      "execution_count": 3,
      "outputs": [
        {
          "output_type": "stream",
          "name": "stdout",
          "text": [
            "Hello World from MAHMOUD WAHEED\n"
          ]
        }
      ]
    },
    {
      "cell_type": "code",
      "source": [
        "print(\"Hello World from Shahd Moatasem\")"
      ],
      "metadata": {
        "id": "4iHzbqkwGgsO",
        "outputId": "b980621b-fd26-48b3-cefa-bc6d4304a574",
        "colab": {
          "base_uri": "https://localhost:8080/"
        }
      },
      "execution_count": 4,
      "outputs": [
        {
          "output_type": "stream",
          "name": "stdout",
          "text": [
            "Hello World from Shahd Moatasem\n"
          ]
        }
      ]
    },
    {
      "cell_type": "code",
      "source": [
        "print(\"Hellow world from Fahd\")"
      ],
      "metadata": {
        "id": "AJ-dCKYcHshq",
        "outputId": "6f568c32-80d1-43e2-a90c-3b287b467ffe",
        "colab": {
          "base_uri": "https://localhost:8080/"
        }
      },
      "execution_count": 5,
      "outputs": [
        {
          "output_type": "stream",
          "name": "stdout",
          "text": [
            "Hellow world from Fahd\n"
          ]
        }
      ]
    },
    {
      "cell_type": "code",
      "source": [
        "print(\"hello world from belal adel\")"
      ],
      "metadata": {
        "colab": {
          "base_uri": "https://localhost:8080/"
        },
        "id": "2T2w-t6Mn443",
        "outputId": "1bea3c00-4a9b-40e8-8842-46b9bfd2093d"
      },
      "execution_count": 6,
      "outputs": [
        {
          "output_type": "stream",
          "name": "stdout",
          "text": [
            "hello world from belal adel\n"
          ]
        }
      ]
    }
  ]
}