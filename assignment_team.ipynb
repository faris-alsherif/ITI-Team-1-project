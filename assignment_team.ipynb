{
  "nbformat": 4,
  "nbformat_minor": 0,
  "metadata": {
    "colab": {
      "provenance": [],
      "include_colab_link": true
    },
    "kernelspec": {
      "name": "python3",
      "display_name": "Python 3"
    },
    "language_info": {
      "name": "python"
    }
  },
  "cells": [
    {
      "cell_type": "markdown",
      "metadata": {
        "id": "view-in-github",
        "colab_type": "text"
      },
      "source": [
        "<a href=\"https://colab.research.google.com/github/faris-alsherif/ITI-Team-1-project/blob/main/assignment_team.ipynb\" target=\"_parent\"><img src=\"https://colab.research.google.com/assets/colab-badge.svg\" alt=\"Open In Colab\"/></a>"
      ]
    },
    {
      "cell_type": "code",
      "execution_count": 1,
      "metadata": {
        "id": "vgSmrcUp2co6",
        "colab": {
          "base_uri": "https://localhost:8080/"
        },
        "outputId": "30af7b4a-598e-40f6-fb56-cbfb314b6f09"
      },
      "outputs": [
        {
          "output_type": "stream",
          "name": "stdout",
          "text": [
            "Hello World from Shahd Elsayed\n"
          ]
        }
      ],
      "source": [
        "print(\"Hello World from Shahd Elsayed\")"
      ]
    }
  ]
}