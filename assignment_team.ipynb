{
  "nbformat": 4,
  "nbformat_minor": 0,
  "metadata": {
    "colab": {
      "provenance": [],
      "include_colab_link": true
    },
    "kernelspec": {
      "name": "python3",
      "display_name": "Python 3"
    },
    "language_info": {
      "name": "python"
    }
  },
  "cells": [
    {
      "cell_type": "markdown",
      "metadata": {
        "id": "view-in-github",
        "colab_type": "text"
      },
      "source": [
        "<a href=\"https://colab.research.google.com/github/faris-alsherif/ITI-Team-1-project/blob/main/assignment_team.ipynb\" target=\"_parent\"><img src=\"https://colab.research.google.com/assets/colab-badge.svg\" alt=\"Open In Colab\"/></a>"
      ]
    },
    {
      "cell_type": "code",
      "execution_count": null,
      "metadata": {
        "id": "vgSmrcUp2co6",
        "outputId": "76753452-dd9a-4b62-82b3-c4226f82e6a9",
        "colab": {
          "base_uri": "https://localhost:8080/"
        }
      },
      "outputs": [
        {
          "output_type": "stream",
          "name": "stdout",
          "text": [
            "hello world from faris\n"
          ]
        }
      ],
      "source": [
        "print('hello world from faris')"
      ]
    },
    {
      "cell_type": "code",
      "source": [
        "print(\"Hello World from Shahd Elsayed\")"
      ],
      "metadata": {
        "id": "DlCQU8pzCBoN",
        "outputId": "5921ad31-581c-4dbe-9fd4-2a0afe7998e9",
        "colab": {
          "base_uri": "https://localhost:8080/"
        }
      },
      "execution_count": null,
      "outputs": [
        {
          "output_type": "stream",
          "name": "stdout",
          "text": [
            "Hello World from Shahd Elsayed\n"
          ]
        }
      ]
    },
    {
      "cell_type": "code",
      "source": [
        "print(\"Hello World from MAHMOUD WAHEED\")"
      ],
      "metadata": {
        "id": "xzxZsCs_Ddcv",
        "outputId": "ab6b337a-f8d8-41e2-a555-bdae4e0c170e",
        "colab": {
          "base_uri": "https://localhost:8080/"
        }
      },
      "execution_count": null,
      "outputs": [
        {
          "output_type": "stream",
          "name": "stdout",
          "text": [
            "Hello World from MAHMOUD WAHEED\n"
          ]
        }
      ]
    },
    {
      "cell_type": "code",
      "source": [
        "print(\"Hello World from Shahd Moatasem\")"
      ],
      "metadata": {
        "id": "4iHzbqkwGgsO",
        "outputId": "3dc9d2e3-e9d1-4c44-cf8a-49526fefad26",
        "colab": {
          "base_uri": "https://localhost:8080/"
        }
      },
      "execution_count": null,
      "outputs": [
        {
          "output_type": "stream",
          "name": "stdout",
          "text": [
            "Hello World from Shahd Moatasem\n"
          ]
        }
      ]
    },
    {
      "cell_type": "code",
      "source": [
        "print(\"Hellow world from Fahd\")"
      ],
      "metadata": {
        "id": "AJ-dCKYcHshq",
        "outputId": "655b3533-c587-41bc-f916-557437e5779e",
        "colab": {
          "base_uri": "https://localhost:8080/"
        }
      },
      "execution_count": null,
      "outputs": [
        {
          "output_type": "stream",
          "name": "stdout",
          "text": [
            "Hellow world from Fahd\n"
          ]
        }
      ]
    },
    {
      "cell_type": "code",
      "source": [
        "print(\"hello world from Belal Adel \")"
      ],
      "metadata": {
        "colab": {
          "base_uri": "https://localhost:8080/"
        },
        "id": "1-TvLXNq_wt0",
        "outputId": "82593b92-6ae2-4b43-91ce-1b7432a65ae6"
      },
      "execution_count": null,
      "outputs": [
        {
          "output_type": "stream",
          "name": "stdout",
          "text": [
            "hello world from Belal Adel \n"
          ]
        }
      ]
    }
  ]
}